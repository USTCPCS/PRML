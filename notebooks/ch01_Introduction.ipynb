{
 "cells": [
  {
   "cell_type": "markdown",
   "metadata": {},
   "source": [
    "# 1. Introduction"
   ]
  },
  {
   "cell_type": "code",
   "execution_count": 40,
   "metadata": {
    "ExecuteTime": {
     "end_time": "2017-12-21T08:25:52.489339Z",
     "start_time": "2017-12-21T08:25:52.475942Z"
    }
   },
   "outputs": [],
   "source": [
    "import numpy as np\n",
    "import matplotlib.pyplot as plt\n",
    "%matplotlib inline\n",
    "\n",
    "from prml.features import PolynomialFeatures\n",
    "from prml.linear import (\n",
    "    LinearRegressor,\n",
    "    RidgeRegressor,\n",
    "    BayesianRegressor\n",
    ")\n",
    "\n",
    "np.random.seed(0)"
   ]
  },
  {
   "cell_type": "markdown",
   "metadata": {},
   "source": [
    "## 1.1. Example: Polynomial Curve Fitting"
   ]
  },
  {
   "cell_type": "code",
   "execution_count": null,
   "metadata": {
    "ExecuteTime": {
     "start_time": "2017-12-21T08:25:51.405Z"
    }
   },
   "outputs": [
    {
     "data": {
      "image/png": "[encoded data removed]",
      "text/plain": [
       "<matplotlib.figure.Figure at 0x7fe3b2255470>"
      ]
     },
     "metadata": {},
     "output_type": "display_data"
    }
   ],
   "source": [
    "def create_toy_data(func, sample_size, std):\n",
    "    x = np.linspace(0, 1, sample_size)\n",
    "    t = func(x) + np.random.normal(scale=std, size=x.shape)\n",
    "    return x, t\n",
    "\n",
    "def func(x):\n",
    "    return np.sin(2 * np.pi * x)\n",
    "\n",
    "x_train, y_train = create_toy_data(func, 10, 0.3)\n",
    "x_test = np.linspace(0, 1, 100)\n",
    "y_test = func(x_test)\n",
    "\n",
    "plt.scatter(x_train, y_train, facecolor=\"none\", edgecolor=\"b\", s=50, label=\"training data\")\n",
    "plt.plot(x_test, y_test, c=\"g\", label=\"$\\sin(2\\pi x)$\")\n",
    "plt.legend()\n",
    "plt.show()"
   ]
  },
  {
   "cell_type": "code",
   "execution_count": null,
   "metadata": {
    "ExecuteTime": {
     "start_time": "2017-12-21T08:25:51.406Z"
    },
    "scrolled": true
   },
   "outputs": [],
   "source": [
    "for i, degree in enumerate([0, 1, 3, 9]):\n",
    "    plt.subplot(2, 2, i + 1)\n",
    "    feature = PolynomialFeatures(degree)\n",
    "    X_train = feature.transform(x_train)\n",
    "    X_test = feature.transform(x_test)\n",
    "\n",
    "    model = LinearRegressor()\n",
    "    model.fit(X_train, y_train)\n",
    "    y = model.predict(X_test)\n",
    "\n",
    "    plt.scatter(x_train, y_train, facecolor=\"none\", edgecolor=\"b\", s=50, label=\"training data\")\n",
    "    plt.plot(x_test, y_test, c=\"g\", label=\"$\\sin(2\\pi x)$\")\n",
    "    plt.plot(x_test, y, c=\"r\", label=\"fitting\")\n",
    "    plt.ylim(-1.5, 1.5)\n",
    "    plt.annotate(\"M={}\".format(degree), xy=(-0.15, 1))\n",
    "plt.legend(bbox_to_anchor=(1.05, 0.64), loc=2, borderaxespad=0.)\n",
    "plt.show()"
   ]
  },
  {
   "cell_type": "code",
   "execution_count": null,
   "metadata": {
    "ExecuteTime": {
     "start_time": "2017-12-21T08:25:51.409Z"
    }
   },
   "outputs": [],
   "source": [
    "def rmse(a, b):\n",
    "    return np.sqrt(np.mean(np.square(a - b)))\n",
    "\n",
    "training_errors = []\n",
    "test_errors = []\n",
    "\n",
    "for i in range(10):\n",
    "    feature = PolynomialFeatures(i)\n",
    "    X_train = feature.transform(x_train)\n",
    "    X_test = feature.transform(x_test)\n",
    "\n",
    "    model = LinearRegressor()\n",
    "    model.fit(X_train, y_train)\n",
    "    y = model.predict(X_test)\n",
    "    training_errors.append(rmse(model.predict(X_train), y_train))\n",
    "    test_errors.append(rmse(model.predict(X_test), y_test + np.random.normal(scale=0.25, size=len(y_test))))\n",
    "\n",
    "plt.plot(training_errors, 'o-', mfc=\"none\", mec=\"b\", ms=10, c=\"b\", label=\"Training\")\n",
    "plt.plot(test_errors, 'o-', mfc=\"none\", mec=\"r\", ms=10, c=\"r\", label=\"Test\")\n",
    "plt.legend()\n",
    "plt.xlabel(\"degree\")\n",
    "plt.ylabel(\"RMSE\")\n",
    "plt.show()"
   ]
  },
  {
   "cell_type": "markdown",
   "metadata": {},
   "source": [
    "#### Regularization"
   ]
  },
  {
   "cell_type": "code",
   "execution_count": null,
   "metadata": {
    "ExecuteTime": {
     "start_time": "2017-12-21T08:25:51.410Z"
    }
   },
   "outputs": [],
   "source": [
    "feature = PolynomialFeatures(9)\n",
    "X_train = feature.transform(x_train)\n",
    "X_test = feature.transform(x_test)\n",
    "\n",
    "model = RidgeRegressor(alpha=1e-3)\n",
    "model.fit(X_train, y_train)\n",
    "y = model.predict(X_test)\n",
    "\n",
    "y = model.predict(X_test)\n",
    "plt.scatter(x_train, y_train, facecolor=\"none\", edgecolor=\"b\", s=50, label=\"training data\")\n",
    "plt.plot(x_test, y_test, c=\"g\", label=\"$\\sin(2\\pi x)$\")\n",
    "plt.plot(x_test, y, c=\"r\", label=\"fitting\")\n",
    "plt.ylim(-1.5, 1.5)\n",
    "plt.legend()\n",
    "plt.annotate(\"M=9\", xy=(-0.15, 1))\n",
    "plt.show()"
   ]
  },
  {
   "cell_type": "markdown",
   "metadata": {},
   "source": [
    "### 1.2.6 Bayesian curve fitting"
   ]
  },
  {
   "cell_type": "code",
   "execution_count": null,
   "metadata": {
    "ExecuteTime": {
     "start_time": "2017-12-21T08:25:51.411Z"
    }
   },
   "outputs": [],
   "source": [
    "model = BayesianRegressor(alpha=5e-3, beta=11.1)\n",
    "model.fit(X_train, y_train)\n",
    "\n",
    "y, y_err = model.predict(X_test, return_std=True)\n",
    "plt.scatter(x_train, y_train, facecolor=\"none\", edgecolor=\"b\", s=50, label=\"training data\")\n",
    "plt.plot(x_test, y_test, c=\"g\", label=\"$\\sin(2\\pi x)$\")\n",
    "plt.plot(x_test, y, c=\"r\", label=\"mean\")\n",
    "plt.fill_between(x_test, y - y_err, y + y_err, color=\"pink\", label=\"std.\", alpha=0.5)\n",
    "plt.xlim(-0.1, 1.1)\n",
    "plt.ylim(-1.5, 1.5)\n",
    "plt.annotate(\"M=9\", xy=(0.8, 1))\n",
    "plt.legend(bbox_to_anchor=(1.05, 1.), loc=2, borderaxespad=0.)\n",
    "plt.show()"
   ]
  },
  {
   "cell_type": "code",
   "execution_count": null,
   "metadata": {},
   "outputs": [],
   "source": []
  }
 ],
 "metadata": {
  "anaconda-cloud": {},
  "kernelspec": {
   "display_name": ".python3.6",
   "language": "python",
   "name": ".python3.6"
  },
  "language_info": {
   "codemirror_mode": {
    "name": "ipython",
    "version": 3
   },
   "file_extension": ".py",
   "mimetype": "text/x-python",
   "name": "python",
   "nbconvert_exporter": "python",
   "pygments_lexer": "ipython3",
   "version": "3.6.3"
  }
 },
 "nbformat": 4,
 "nbformat_minor": 1
}
